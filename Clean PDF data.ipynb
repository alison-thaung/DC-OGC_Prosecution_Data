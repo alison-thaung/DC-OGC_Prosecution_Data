{
 "cells": [
  {
   "cell_type": "markdown",
   "metadata": {},
   "source": [
    "# Import Libraries"
   ]
  },
  {
   "cell_type": "code",
   "execution_count": 1,
   "metadata": {},
   "outputs": [],
   "source": [
    "from tabula import read_pdf\n",
    "import pandas as pd\n",
    "import os\n",
    "import re\n",
    "import numpy as np"
   ]
  },
  {
   "cell_type": "markdown",
   "metadata": {},
   "source": [
    "# Import data"
   ]
  },
  {
   "cell_type": "code",
   "execution_count": 2,
   "metadata": {},
   "outputs": [],
   "source": [
    "raw_df = read_pdf('2016 and 2017 DOJ Prosecution Data.pdf', pages='all')"
   ]
  },
  {
   "cell_type": "code",
   "execution_count": 3,
   "metadata": {},
   "outputs": [],
   "source": [
    "df = raw_df.copy()"
   ]
  },
  {
   "cell_type": "markdown",
   "metadata": {},
   "source": [
    "# Clean Data"
   ]
  },
  {
   "cell_type": "markdown",
   "metadata": {},
   "source": [
    "## Label Districts"
   ]
  },
  {
   "cell_type": "code",
   "execution_count": 4,
   "metadata": {},
   "outputs": [],
   "source": [
    "districtRegex = re.compile('District \\d+')"
   ]
  },
  {
   "cell_type": "code",
   "execution_count": 5,
   "metadata": {},
   "outputs": [],
   "source": [
    "def matchDistrict(x):\n",
    "    try:\n",
    "        if re.match(districtRegex, x):\n",
    "            return re.search(districtRegex, x).group(0)\n",
    "    except:\n",
    "        return np.nan"
   ]
  },
  {
   "cell_type": "code",
   "execution_count": 6,
   "metadata": {},
   "outputs": [],
   "source": [
    "df['District'] = df.apply(lambda x: matchDistrict(x['District 1']), axis = 1)"
   ]
  },
  {
   "cell_type": "markdown",
   "metadata": {},
   "source": [
    "## Shift around rows that should be headers to make each table the same length"
   ]
  },
  {
   "cell_type": "markdown",
   "metadata": {},
   "source": [
    "Each table in the pdf is merged into a single `DataFrame`. Each table should have the same number of rows. The following code extracts the District number, removes the header row and makes the number of rows in each table consistent"
   ]
  },
  {
   "cell_type": "code",
   "execution_count": 7,
   "metadata": {},
   "outputs": [],
   "source": [
    "data = [np.nan] * 4 + ['District 1']\n",
    "df.loc[-1] = data\n",
    "df.index = df.index + 1\n",
    "df = df.sort_index()"
   ]
  },
  {
   "cell_type": "code",
   "execution_count": 8,
   "metadata": {
    "scrolled": true
   },
   "outputs": [],
   "source": [
    "df = df.dropna(how='all')"
   ]
  },
  {
   "cell_type": "markdown",
   "metadata": {},
   "source": [
    "Fill with the same District name until the District name changes"
   ]
  },
  {
   "cell_type": "code",
   "execution_count": 9,
   "metadata": {},
   "outputs": [],
   "source": [
    "df['District'] = df['District'].fillna(method='ffill')"
   ]
  },
  {
   "cell_type": "code",
   "execution_count": 10,
   "metadata": {},
   "outputs": [],
   "source": [
    "df.columns = ['Action', 'Action2', '2016', '2017', 'District']"
   ]
  },
  {
   "cell_type": "markdown",
   "metadata": {},
   "source": [
    "Remove total columns and total arrests (the data roll up into this calculation)"
   ]
  },
  {
   "cell_type": "code",
   "execution_count": 11,
   "metadata": {},
   "outputs": [],
   "source": [
    "maskTotal = ((df['Action2'].str.startswith('Total', na=False)) | (df['Action'] == 'Arrests'))\n",
    "df = df.loc[~maskTotal]"
   ]
  },
  {
   "cell_type": "code",
   "execution_count": 12,
   "metadata": {},
   "outputs": [],
   "source": [
    "# drop first row\n",
    "df = df.drop([0])"
   ]
  },
  {
   "cell_type": "code",
   "execution_count": 13,
   "metadata": {},
   "outputs": [],
   "source": [
    "df.reset_index(drop = True, inplace = True)"
   ]
  },
  {
   "cell_type": "code",
   "execution_count": 14,
   "metadata": {},
   "outputs": [],
   "source": [
    "df = df.loc[~((df['2016']=='2016') & (df['2017'] == '2017'))]\n",
    "df.reset_index(drop=True, inplace=True)"
   ]
  },
  {
   "cell_type": "code",
   "execution_count": 15,
   "metadata": {},
   "outputs": [],
   "source": [
    "def combineAction(x):\n",
    "    try:\n",
    "        if np.isnan(x['Action']):\n",
    "            return x['Action2']\n",
    "    except:\n",
    "        return x['Action']"
   ]
  },
  {
   "cell_type": "code",
   "execution_count": 16,
   "metadata": {},
   "outputs": [],
   "source": [
    "df['Activity'] = df.apply(lambda x: combineAction(x), axis=1)"
   ]
  },
  {
   "cell_type": "code",
   "execution_count": 17,
   "metadata": {},
   "outputs": [],
   "source": [
    "df= df.drop(columns = ['Action', 'Action2'], axis = 1)\n",
    "df = df[['District', 'Activity', '2016', '2017']]"
   ]
  },
  {
   "cell_type": "markdown",
   "metadata": {},
   "source": [
    "Check for typos - there appears to be 7 instances where the pdf did not read perfectly (e.g. `Jury Trial Court Trial` as a single value. Split each of those instances into separate rows"
   ]
  },
  {
   "cell_type": "code",
   "execution_count": 18,
   "metadata": {},
   "outputs": [
    {
     "data": {
      "text/plain": [
       "Pending Cases             49\n",
       "Papered Cases             49\n",
       "Not Guilty Verdict        49\n",
       "No Papered Cases          49\n",
       "Dismissals                49\n",
       "Guilty Pleas              49\n",
       "Court Trial               42\n",
       "Jury Trial                42\n",
       "Jury Trial Court Trial     7\n",
       "Name: Activity, dtype: int64"
      ]
     },
     "execution_count": 18,
     "metadata": {},
     "output_type": "execute_result"
    }
   ],
   "source": [
    "df['Activity'].value_counts()"
   ]
  },
  {
   "cell_type": "markdown",
   "metadata": {},
   "source": [
    "Find indices of where these typos occur"
   ]
  },
  {
   "cell_type": "code",
   "execution_count": 19,
   "metadata": {
    "scrolled": true
   },
   "outputs": [
    {
     "data": {
      "text/plain": [
       "[18, 73, 128, 183, 238, 293, 348]"
      ]
     },
     "execution_count": 19,
     "metadata": {},
     "output_type": "execute_result"
    }
   ],
   "source": [
    "indices = list(df[df['Activity'] == 'Jury Trial Court Trial'].index)\n",
    "indices"
   ]
  },
  {
   "cell_type": "code",
   "execution_count": 20,
   "metadata": {},
   "outputs": [],
   "source": [
    "def splitRow(i):\n",
    "    new_row = df.iloc[i].copy()\n",
    "    df.iloc[i]['Activity'], new_row['Activity'] = re.findall('\\w+ Trial', df.iloc[i]['Activity'])\n",
    "    df.iloc[i]['2016'], new_row['2016'] = df.iloc[i]['2016'].split()\n",
    "    df.iloc[i]['2017'], new_row['2017'] = df.iloc[i]['2017'].split()\n",
    "    \n",
    "    return df.iloc[i], new_row\n"
   ]
  },
  {
   "cell_type": "code",
   "execution_count": 21,
   "metadata": {},
   "outputs": [],
   "source": [
    "count = 0\n",
    "for i in indices:\n",
    "    i += count\n",
    "    x, y = splitRow(i)\n",
    "    df= pd.concat([df.iloc[:i+1], pd.DataFrame(y).transpose(), df.iloc[i+1:]]).reset_index(drop=True)\n",
    "    count += 1\n",
    "    "
   ]
  },
  {
   "cell_type": "code",
   "execution_count": 22,
   "metadata": {},
   "outputs": [
    {
     "data": {
      "text/plain": [
       "Pending Cases         49\n",
       "Papered Cases         49\n",
       "Not Guilty Verdict    49\n",
       "No Papered Cases      49\n",
       "Dismissals            49\n",
       "Court Trial           49\n",
       "Guilty Pleas          49\n",
       "Jury Trial            49\n",
       "Name: Activity, dtype: int64"
      ]
     },
     "execution_count": 22,
     "metadata": {},
     "output_type": "execute_result"
    }
   ],
   "source": [
    "df['Activity'].value_counts()"
   ]
  },
  {
   "cell_type": "code",
   "execution_count": 23,
   "metadata": {},
   "outputs": [
    {
     "data": {
      "text/plain": [
       "District 7    56\n",
       "District 1    56\n",
       "District 5    56\n",
       "District 4    56\n",
       "District 6    56\n",
       "District 2    56\n",
       "District 3    56\n",
       "Name: District, dtype: int64"
      ]
     },
     "execution_count": 23,
     "metadata": {},
     "output_type": "execute_result"
    }
   ],
   "source": [
    "df['District'].value_counts()"
   ]
  },
  {
   "cell_type": "code",
   "execution_count": 24,
   "metadata": {},
   "outputs": [],
   "source": [
    "offenses = ['Aggravated Assault',\n",
    "            'Arson',\n",
    "            'Burglary',\n",
    "            'First Degree Sexual/Child Abuse',\n",
    "            'First Degree Theft',\n",
    "            'Homicide',\n",
    "            'UUV']"
   ]
  },
  {
   "cell_type": "code",
   "execution_count": 25,
   "metadata": {},
   "outputs": [],
   "source": [
    "df['Offense'] = np.repeat(offenses, 56)"
   ]
  },
  {
   "cell_type": "code",
   "execution_count": 26,
   "metadata": {},
   "outputs": [],
   "source": [
    "df = df[['Offense', 'District', 'Activity', '2016', '2017']]\n"
   ]
  },
  {
   "cell_type": "code",
   "execution_count": 27,
   "metadata": {},
   "outputs": [],
   "source": [
    "df.columns = ['Offense', 'District', 'Activity', '2016', '2017']"
   ]
  },
  {
   "cell_type": "code",
   "execution_count": 28,
   "metadata": {},
   "outputs": [
    {
     "data": {
      "text/html": [
       "<div>\n",
       "<style scoped>\n",
       "    .dataframe tbody tr th:only-of-type {\n",
       "        vertical-align: middle;\n",
       "    }\n",
       "\n",
       "    .dataframe tbody tr th {\n",
       "        vertical-align: top;\n",
       "    }\n",
       "\n",
       "    .dataframe thead th {\n",
       "        text-align: right;\n",
       "    }\n",
       "</style>\n",
       "<table border=\"1\" class=\"dataframe\">\n",
       "  <thead>\n",
       "    <tr style=\"text-align: right;\">\n",
       "      <th></th>\n",
       "      <th>Offense</th>\n",
       "      <th>District</th>\n",
       "      <th>Activity</th>\n",
       "      <th>2016</th>\n",
       "      <th>2017</th>\n",
       "    </tr>\n",
       "  </thead>\n",
       "  <tbody>\n",
       "    <tr>\n",
       "      <th>0</th>\n",
       "      <td>Aggravated Assault</td>\n",
       "      <td>District 1</td>\n",
       "      <td>No Papered Cases</td>\n",
       "      <td>2</td>\n",
       "      <td>3</td>\n",
       "    </tr>\n",
       "    <tr>\n",
       "      <th>1</th>\n",
       "      <td>Aggravated Assault</td>\n",
       "      <td>District 1</td>\n",
       "      <td>Papered Cases</td>\n",
       "      <td>13</td>\n",
       "      <td>22</td>\n",
       "    </tr>\n",
       "    <tr>\n",
       "      <th>2</th>\n",
       "      <td>Aggravated Assault</td>\n",
       "      <td>District 1</td>\n",
       "      <td>Jury Trial</td>\n",
       "      <td>0</td>\n",
       "      <td>0</td>\n",
       "    </tr>\n",
       "    <tr>\n",
       "      <th>3</th>\n",
       "      <td>Aggravated Assault</td>\n",
       "      <td>District 1</td>\n",
       "      <td>Court Trial</td>\n",
       "      <td>0</td>\n",
       "      <td>0</td>\n",
       "    </tr>\n",
       "    <tr>\n",
       "      <th>4</th>\n",
       "      <td>Aggravated Assault</td>\n",
       "      <td>District 1</td>\n",
       "      <td>Guilty Pleas</td>\n",
       "      <td>7</td>\n",
       "      <td>10</td>\n",
       "    </tr>\n",
       "  </tbody>\n",
       "</table>\n",
       "</div>"
      ],
      "text/plain": [
       "              Offense    District          Activity 2016 2017\n",
       "0  Aggravated Assault  District 1  No Papered Cases    2    3\n",
       "1  Aggravated Assault  District 1     Papered Cases   13   22\n",
       "2  Aggravated Assault  District 1        Jury Trial    0    0\n",
       "3  Aggravated Assault  District 1       Court Trial    0    0\n",
       "4  Aggravated Assault  District 1      Guilty Pleas    7   10"
      ]
     },
     "execution_count": 28,
     "metadata": {},
     "output_type": "execute_result"
    }
   ],
   "source": [
    "df.head()"
   ]
  },
  {
   "cell_type": "code",
   "execution_count": 29,
   "metadata": {},
   "outputs": [],
   "source": [
    "categoryDict = {\n",
    "    'No Papered Cases': 'Arrest',\n",
    "    'Papered Cases': 'Arrest',\n",
    "    'Jury Trial': 'Conviction',\n",
    "    'Court Trial': 'Conviction',\n",
    "    'Guilty Pleas': 'Conviction',\n",
    "    'Dismissals': 'No Conviction',\n",
    "    'Not Guilty Verdict': 'No Conviction',\n",
    "    'Pending Cases': 'In Progress'\n",
    "}"
   ]
  },
  {
   "cell_type": "code",
   "execution_count": 30,
   "metadata": {},
   "outputs": [],
   "source": [
    "df['Status'] = df['Activity'].apply(lambda x: categoryDict[x])"
   ]
  },
  {
   "cell_type": "code",
   "execution_count": 31,
   "metadata": {},
   "outputs": [],
   "source": [
    "df = df[['Offense', 'District', 'Status', 'Activity', '2016', '2017']]"
   ]
  },
  {
   "cell_type": "code",
   "execution_count": 32,
   "metadata": {},
   "outputs": [],
   "source": [
    "df.to_csv('DC_DOJ_Prosecution_Data.csv')"
   ]
  },
  {
   "cell_type": "code",
   "execution_count": 34,
   "metadata": {},
   "outputs": [],
   "source": [
    "df.to_excel('DC_DOJ_Prosecution_Data.xlsx')"
   ]
  }
 ],
 "metadata": {
  "kernelspec": {
   "display_name": "Python 3",
   "language": "python",
   "name": "python3"
  },
  "language_info": {
   "codemirror_mode": {
    "name": "ipython",
    "version": 3
   },
   "file_extension": ".py",
   "mimetype": "text/x-python",
   "name": "python",
   "nbconvert_exporter": "python",
   "pygments_lexer": "ipython3",
   "version": "3.6.6"
  }
 },
 "nbformat": 4,
 "nbformat_minor": 2
}
